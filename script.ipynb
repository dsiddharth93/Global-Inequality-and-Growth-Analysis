{"cells":[
 {
  "cell_type": "markdown",
  "metadata": {},
  "source": "#Looking at Global Inequality. \nInvestigating global inequality based on GNI per capita and wealth distributions over time.\n\n"
 },
 {
  "cell_type": "code",
  "execution_count": null,
  "metadata": {
   "collapsed": false
  },
  "outputs": [],
  "source": "import numpy as np # linear algebra\nimport pandas as pd # data processing, CSV file I/O (e.g. pd.read_csv)\nimport matplotlib.pyplot as plt\nimport seaborn as sns\n\n\n\npd.set_option('display.max_rows', 50)\npd.set_option('display.max_columns', 50)\npd.set_option('display.width', 1000)\n\ndocument = pd.read_csv('../input/Indicators.csv')\n\n#want to see all the countries listed in the document  \ndocument['CountryName'].unique()\n\n#get rid of indicators that aren't countries \nlist = ['Arab World', 'Caribbean small states', 'Central Europe and the Baltics',\n 'East Asia & Pacific (all income levels)',\n 'East Asia & Pacific (developing only)', 'Euro area',\n 'Europe & Central Asia (all income levels)',\n 'Europe & Central Asia (developing only)', 'European Union',\n 'Fragile and conflict affected situations',\n 'Heavily indebted poor countries (HIPC)', 'High income',\n 'High income: nonOECD', 'High income: OECD',\n 'Latin America & Caribbean (all income levels)',\n 'Latin America & Caribbean (developing only)',\n 'Least developed countries: UN classification', 'Low & middle income',\n 'Low income', 'Lower middle income',\n 'Middle East & North Africa (all income levels)',\n 'Middle East & North Africa (developing only)', 'Middle income',\n 'North America' 'OECD members' ,'Other small states',\n 'Pacific island small states', 'Small states', 'South Asia',\n 'Sub-Saharan Africa (all income levels)',\n 'Sub-Saharan Africa (developing only)' ,'Upper middle income' ,'World', 'North America', 'OECD members']\n\n\n\n\n"
 },
 {
  "cell_type": "markdown",
  "metadata": {},
  "source": "##Identifying the \"poor\" countries\nWhat are the 15 countries that had the lowest average incomes in 1960 and 2014?"
 },
 {
  "cell_type": "code",
  "execution_count": null,
  "metadata": {
   "collapsed": false
  },
  "outputs": [],
  "source": "lowestGNI_2014 = document.query(\"IndicatorCode == 'NY.GNP.PCAP.CD' & CountryName != list & Year == 2014\").sort_values(by = 'Value', ascending = True)[:15]\nlowestGNI_1960 = document.query(\"IndicatorCode == 'NY.GNP.PCAP.CD' & CountryName != list & Year == 1962\").sort_values(by = 'Value', ascending = True)[:15]\n\nfig = plt.subplots()\n\ngraph1 = sns.barplot(x = \"Value\", y = \"CountryName\", palette = \"PuBu\", data = lowestGNI_1960)\nplt.xlabel('Average Income ($)', fontsize = 14)\nplt.ylabel('Country',  fontsize=14)\nplt.title('The 15 Countries with Lowest Average Income in 1962', fontsize = 14)\n\n\n\n\n"
 },
 {
  "cell_type": "code",
  "execution_count": null,
  "metadata": {
   "collapsed": false
  },
  "outputs": [],
  "source": "fig2 = plt.subplots()\n\ngraph2 = sns.barplot(x = \"Value\", y = \"CountryName\", palette = \"PuBu\", data = lowestGNI_2014)\nplt.xlabel('Average Income($)', fontsize = 14)\nplt.ylabel('Country', fontsize = 14)\nplt.title('The 15 Countries with Lowest Average Income in 2014', fontsize = 14)\n\n"
 },
 {
  "cell_type": "markdown",
  "metadata": {},
  "source": "###Which countries have consistently been 'poor'?"
 },
 {
  "cell_type": "code",
  "execution_count": null,
  "metadata": {
   "collapsed": false
  },
  "outputs": [],
  "source": "for key,group in lowestGNI_1960.groupby(['CountryName']):\n    for key2, group2 in lowestGNI_2014.groupby(['CountryName']):\n        if key == key2:\n            print (key)"
 },
 {
  "cell_type": "markdown",
  "metadata": {},
  "source": "It is interesting to note the geographic differences of low income countries in 1962 and 2014. In 1962, 5 of the 15 countries (China, India, Korea, Pakistan, Nepal) with lowest average income in the world were located in Asia. Switch to 2014 and it is interesting to note that every single one of the countries with lowest income in the world are all African with the exception of Afghanistan. \n\nBy running a simple for loop after visualizing the data, it can be seen that 4 countries- Burundi, Central African Republic, Malawi, and Togo- have been in the poorest 15 in both the past (1960s) and the present."
 },
 {
  "cell_type": "markdown",
  "metadata": {},
  "source": "##Identifying the \"rich\" countries\nWhat countries had the highest average incomes in both 1960 and 2014?"
 },
 {
  "cell_type": "code",
  "execution_count": null,
  "metadata": {
   "collapsed": false
  },
  "outputs": [],
  "source": "rich_1960 = document.query(\"IndicatorCode == 'NY.GNP.PCAP.CD' & CountryName != list & Year == 1962\").sort_values(by = 'Value')[-15:]\nrich_2014 = document.query(\"IndicatorCode == 'NY.GNP.PCAP.CD' & CountryName != list & Year == 2014\").sort_values(by= 'Value')[-15:]"
 },
 {
  "cell_type": "code",
  "execution_count": null,
  "metadata": {
   "collapsed": false
  },
  "outputs": [],
  "source": "fig = plt.subplots()\n\ngraph_rich = sns.barplot(x = \"Value\", y = \"CountryName\", palette = \"BuGn\", data = rich_1960)\nplt.xlabel('Average Income ($)', fontsize = 14)\nplt.ylabel('Country',  fontsize=14)\nplt.title('The 15 Countries with Highest Average Income in 1960', fontsize = 14)\n\n\n"
 },
 {
  "cell_type": "code",
  "execution_count": null,
  "metadata": {
   "collapsed": false
  },
  "outputs": [],
  "source": "fig = plt.subplots()\n\ngraph_rich2 = sns.barplot(x = \"Value\", y = \"CountryName\", palette = \"BuGn\", data = rich_2014)\nplt.xlabel('Average Income ($)', fontsize = 14)\nplt.ylabel('Country',  fontsize=14)\nplt.title('The 15 Countries with Highest Average Income in 2014', fontsize = 14)\n\n"
 },
 {
  "cell_type": "markdown",
  "metadata": {},
  "source": "###Which countries have consistently been 'rich'?"
 },
 {
  "cell_type": "code",
  "execution_count": null,
  "metadata": {
   "collapsed": false
  },
  "outputs": [],
  "source": "for key, group in rich_1960.groupby(['CountryName']):\n    for key2, group2 in rich_2014.groupby(['CountryName']):\n        if key == key2:\n            print (key)"
 },
 {
  "cell_type": "markdown",
  "metadata": {},
  "source": "There are a lot of unique attributes to note about the 'rich' countries. For they most part, they are located in the Western world- particularly in W. Europe, Scandinavia, and N.America. 9 of the 15 countries were wealthy in both the past (1960s) and the present- suggesting that having wealth in the past is a big indicator of having wealth in the present. \nAnother interesting thing to note is the appearance of newer 'rich' countries from the Middle East (Qatar, Kuwait) and East Asia (Macao, Singapore). \nFurthermore, it can also be seen that transitioning from 1960s to the present, the average incomes increased significantly in the developed world- suggesting that wealth has been accumulating much quicker in only certain pockets of the planet."
 },
 {
  "cell_type": "markdown",
  "metadata": {},
  "source": "##Comparing 'rich', 'emerging', and 'poor' countries"
 },
 {
  "cell_type": "markdown",
  "metadata": {},
  "source": "###Tracking Average Income from 1960-2014 "
 },
 {
  "cell_type": "code",
  "execution_count": null,
  "metadata": {
   "collapsed": false
  },
  "outputs": [],
  "source": "fig8, ax8 = plt.subplots(figsize = [15,8], ncols = 2)\nax6, ax7 = ax8\n\nlabels = []\nGNP_revised = document.query(\"IndicatorCode == 'NY.GNP.PCAP.CD' & CountryName == ['Australia','Austria','Canada', 'Luxembourg', 'Netherlands','Norway','United States']\").groupby(['CountryName'])\nfor key, group in GNP_revised:\n    ax6 = group.plot(ax = ax6, kind = \"line\", x = \"Year\", y = \"Value\", title = \"Average Income from 1960-2014 in 'Rich' Countries\")\n    labels.append(key)\n\nlines, _ = ax6.get_legend_handles_labels()\nax6.legend(lines, labels, loc='best')\n\nlabels2 = []\nGNP_revised = document.query(\"IndicatorCode == 'NY.GNP.PCAP.CD' & CountryName == ['Burundi', 'Togo', 'Malawi', 'Central African Republic']\").groupby(['CountryName'])\nfor key, group in GNP_revised:\n    ax7 = group.plot(ax = ax7, kind = \"line\", x = \"Year\", y = \"Value\", title = \"Average Income from 1960-2014 in 'Poor' Countries\")\n    labels2.append(key)\n\nlines, _ = ax7.get_legend_handles_labels()\nax7.legend(lines, labels2, loc='best')"
 },
 {
  "cell_type": "markdown",
  "metadata": {},
  "source": "There are some noticeable observations here:\n\n1) Growth in income for \"rich\" countries is much greater than the growth in income for the \"poorer\" countries.\n\n2) In \"poor\" countries, we see that growth in income is not as steady as in \"rich\" countries. Since change in income is so much smaller overtime, even slight income changes appear very dramatic for \"poor\" countries.\n"
 },
 {
  "cell_type": "markdown",
  "metadata": {},
  "source": "###Wealth is acculumating faster in certain countries than others"
 },
 {
  "cell_type": "code",
  "execution_count": null,
  "metadata": {
   "collapsed": false
  },
  "outputs": [],
  "source": "fig, (ax1, ax2) = plt.subplots(1, 2, figsize = [15,8], sharex = True)\nincome_query = document.query(\"IndicatorCode == 'NY.GNP.PCAP.CD' & Year == 1962 & CountryName == ['Malawi', 'China', 'Luxembourg', 'United States']\")\nincome_query_graph = sns.barplot(x = 'CountryName', y = 'Value', order = ['Malawi', 'China', 'Luxembourg', 'United States'], ax = ax1, data = income_query)\nax1.set_title(\"Average Income in 1962\", fontsize = 14)\nax1.set_xlabel('Country', fontsize = 14)\nax1.set_ylabel('Average Income ($)', fontsize = 14)\n\nfor p in income_query_graph.patches:\n    height = p.get_height()\n    income_query_graph.text(p.get_x() + p.get_width()/2., 1.05*height,\n                '%d' % int(height), ha='center', va='bottom')\n    \nincome_query_now=document.query(\"IndicatorCode == 'NY.GNP.PCAP.CD' & Year == 2014 & CountryName == ['Malawi', 'China', 'Luxembourg', 'United States']\")\nincome_query_now_graph = sns.barplot(x = 'CountryName', y = 'Value', order = ['Malawi', 'China', 'Luxembourg', 'United States'], ax = ax2, data = income_query_now)\nax2.set_title(\"Average Income in 2014\", fontsize = 14)\nax2.set_xlabel('Country', fontsize = 14)\nax2.set_ylabel('Average Income ($)', fontsize = 14)\nplt.ylim([0,90000])\n\nfor p in income_query_now_graph.patches:\n    height = p.get_height()\n    income_query_now_graph.text(p.get_x() + p.get_width()/2., 1.05*height,\n                '%d' % int(height), ha='center', va='bottom')"
 },
 {
  "cell_type": "markdown",
  "metadata": {},
  "source": "It turns out that compared to Luxembourg and United States, citizens of both Malawi and China had substantially lower incomes in 1962. The average citizen in Malawi only made $50/yr in 1962! The average American citizen made almost 7x's the average Malawian citizen!\n\nSo yes, the \"rich\" countries had a higher leg up compared to the \"poor\" countries!\n\nIt is also interesting to note that at $250 per year, the average income of a Malawian in 2014 is still substantially less than the average income of $3280 per yer of an American citizen in 1962. \n\nIn fact, this is an interesting trend to note for several of the current 'poor' countries. The average incomes of these 'poor' countries is still considerably less compared to the incomes of 'rich' countries 40 years ago. This suggests that not only did 'poor' countries start off on an uneven foot, economic growth is affecting 'rich' countries significantly more than they are the 'poor' countries. This phenomena is occurring to the point that the poorest countries could not even achieve the incomes of the 'rich' countries 40 years ago before the 'rich' countries enormous growth in income.  "
 },
 {
  "cell_type": "code",
  "execution_count": null,
  "metadata": {
   "collapsed": false
  },
  "outputs": [],
  "source": "a = pd.Series(income_query_now['Value'].reset_index(drop = True))\nb = pd.Series(income_query['Value'].reset_index(drop = True))\nratio = a/b\n\nincome_ratio = sns.barplot(x = ['China', 'Luxembourg', 'Malawi', 'United States'], y = ratio, order = ['China', 'Luxembourg', 'United States', 'Malawi'])\nplt.title('Measuring Income Growth- Which countries have seen the most change in incomes?', fontsize = 11)\nplt.xlabel('Country', fontsize = 10)\nplt.ylabel('Income Ratio (2014 Income/1962 Income)', fontsize = 10)\n\nfor p in income_ratio.patches:\n    height = p.get_height()\n    income_ratio.text(p.get_x() + p.get_width()/2., 1.05*height,\n                '%d' % int(height), ha='center', va='bottom')"
 },
 {
  "cell_type": "markdown",
  "metadata": {},
  "source": "Change in income has been the most radical for China. The average income of a Chinese citizen has increased by over 100x's. China's insane growth makes Luxembourg and US considerable growth look miniscule. While in absolute numbers, China still lags behind 'rich' coutries in absolute income numbers, China's actual growth measured in terms of ratios is incredible.\n\nIndeed, China has done a good itself lifting itself out of poverty going from being one of the poorest countries in the world in the 60s to garnering itself in the ranks of being a middle income economy. \n\nThat is the good news. \n\nThe bad news is that 'poor' countries such as Malawi have not encountered much income growth. Not only did these countries make less compared to other countries in the 60s, they have also not been able to keep up with other countries in terms of growth. "
 },
 {
  "cell_type": "markdown",
  "metadata": {},
  "source": "###China vs Malawi-- how do their average incomes compare overtime?"
 },
 {
  "cell_type": "code",
  "execution_count": null,
  "metadata": {
   "collapsed": false
  },
  "outputs": [],
  "source": "fig11, ax21 = plt.subplots(figsize = [15,8])\nlabels_cGNP = []\nfor key, group in document.query(\"IndicatorCode == 'NY.GNP.PCAP.CD' & CountryName == ['China', 'Malawi']\").groupby(['CountryName']):\n    ax21 = group.plot(ax=ax21, kind = \"line\", x = \"Year\", y = \"Value\", title = \"Comparing average incomes- China vs Malawi\")\n    labels_cGNP.append(key)\n\nlines, _ = ax21.get_legend_handles_labels()\nax21.legend(lines, labels_cGNP, loc = 'best')"
 },
 {
  "cell_type": "markdown",
  "metadata": {},
  "source": "China is truly the miracle economy of the world. It's growth is literally exponential. "
 },
 {
  "cell_type": "markdown",
  "metadata": {},
  "source": "###China vs Malawi vs Luxembourg vs United States-- how their average incomes compare overtime"
 },
 {
  "cell_type": "code",
  "execution_count": null,
  "metadata": {
   "collapsed": false
  },
  "outputs": [],
  "source": "fig12, axs12 = plt.subplots(figsize = [15,8])\nlabels_cross3pt2 = []\nfor key, group in document.query(\"IndicatorCode == 'NY.GNP.PCAP.CD' & CountryName == ['China', 'Malawi', 'Luxembourg', 'United States']\").groupby(['CountryName']):\n    axs12 = group.plot(ax = axs12, kind = \"line\", x = \"Year\", y = \"Value\", title = \"Comparing average income- China vs Malawi vs Luxembourg vs US\")\n    labels_cross3pt2.append(key)\n\nlines,_ = axs12.get_legend_handles_labels()\naxs12.legend(lines, labels_cross3pt2, loc = 'best')"
 },
 {
  "cell_type": "markdown",
  "metadata": {},
  "source": "Even though China has showed extraordinary growth, it by no mean has an average income that compares to those of the 'rich' countries. China's growth is most definitely explosive, but it still has a long way to go to achieve the average income of a 'rich' country. While it's growth curve is by far the most impressive out of the 4 countries, there is still an obvious divide in income with China and Malawi belonging on one side and Luxembourg and the US on another."
 },
 {
  "cell_type": "markdown",
  "metadata": {},
  "source": "##Wealth Distributions - Malawi vs China vs United States vs Luxembourg"
 },
 {
  "cell_type": "code",
  "execution_count": null,
  "metadata": {
   "collapsed": false
  },
  "outputs": [],
  "source": "income_share = document.query(\"IndicatorCode == ['SI.DST.FRST.20','SI.DST.02ND.20','SI.DST.03RD.20','SI.DST.04TH.20','SI.DST.05TH.20'] & CountryName == ['Malawi', 'China', 'Luxembourg', 'United States'] & Year == 2010 \").groupby(\"IndicatorCode\")\nN = 4\ni1 = income_share.get_group('SI.DST.FRST.20')['Value']\ni2 = income_share.get_group('SI.DST.02ND.20')['Value']\ni3 = income_share.get_group('SI.DST.03RD.20')['Value']\ni4 = income_share.get_group('SI.DST.04TH.20')['Value']\ni5 = income_share.get_group('SI.DST.05TH.20')['Value']\n\nf, ax_1 = plt.subplots(1, figsize = (15,8))\nind = np.arange(N)\nwidth = 0.35\np1 = ax_1.bar(ind, i1, width, color = '#404040')\np2 = ax_1.bar(ind, i2, width, color = '#bababa', bottom = i1)\np3 = ax_1.bar(ind, i3, width, color = '#ffffff', bottom = [i+j for i,j in zip(i1,i2)])\np4 = ax_1.bar(ind, i4, width, color = '#f4a582', bottom = [i+j+k for i,j,k in zip(i1,i2,i3)])\np5 = ax_1.bar(ind, i5, width, color = '#ca0020', bottom = [i+j+k+l for i,j,k,l in zip(i1,i2,i3,i4)])\nplt.ylabel('Percent', fontsize = 14)\nplt.xlabel('Country Name', fontsize = 14)\nplt.xticks(ind + (width/2), ('China', 'Luxembourg', 'Malawi', 'United States'))\nplt.title('Examining wealth distributions- China, Luxembourg, Malawi, and US', fontsize = 14)\nplt.legend((p1[0],p2[0],p3[0],p4[0],p5[0]),('Income Share Lowest 20%', 'Income Share Second 20%', 'Income Share Third 20%', 'Income Share Fourth 20%', 'Income Share Highest 20%'), loc = 'upper right', bbox_to_anchor=(1.3, 0.9))\naxes = plt.gca()\naxes.set_ylim([0,100])"
 },
 {
  "cell_type": "markdown",
  "metadata": {},
  "source": "China and Malawi have more skewed wealth distributions compared to Luxembourg and United States. Luxembourg has the most even wealth distribution while Malawi has the most skewed wealth distribution with the most of its income share beloging to the highest 20%.\n\nHowever, wealth distributions do not change radically alter based on average income of the country. Regardless of the average income for a country, it can be clearly seen that income share is mostly allocated to the highest 20%!"
 }
],"metadata":{"kernelspec":{"display_name":"Python 3","language":"python","name":"python3"}}, "nbformat": 4, "nbformat_minor": 0}